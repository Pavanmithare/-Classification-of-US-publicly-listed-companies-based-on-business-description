{
 "cells": [
  {
   "cell_type": "code",
   "execution_count": 1,
   "metadata": {},
   "outputs": [],
   "source": [
    "import numpy as np # linear algebra\n",
    "import pandas as pd # data processing, CSV file I/O (e.g. pd.read_csv)"
   ]
  },
  {
   "cell_type": "code",
   "execution_count": 2,
   "metadata": {},
   "outputs": [],
   "source": [
    "from sklearn import model_selection, preprocessing, linear_model, naive_bayes, metrics, svm\n",
    "from sklearn.feature_extraction.text import TfidfVectorizer, CountVectorizer\n",
    "from sklearn import decomposition, ensemble\n",
    "from sklearn.linear_model import LogisticRegression"
   ]
  },
  {
   "cell_type": "code",
   "execution_count": 3,
   "metadata": {},
   "outputs": [],
   "source": [
    "import pandas, xgboost, numpy, textblob, string"
   ]
  },
  {
   "cell_type": "code",
   "execution_count": 4,
   "metadata": {},
   "outputs": [],
   "source": [
    "from keras.preprocessing import text, sequence\n",
    "from keras import layers, models, optimizers\n",
    "from keras.preprocessing.text import Tokenizer\n",
    "from keras.models import Sequential, Model\n",
    "from keras.layers import Activation, Dense, Dropout\n",
    "from sklearn.preprocessing import LabelBinarizer"
   ]
  },
  {
   "cell_type": "code",
   "execution_count": 5,
   "metadata": {},
   "outputs": [],
   "source": [
    "import tensorflow as tf"
   ]
  },
  {
   "cell_type": "code",
   "execution_count": 6,
   "metadata": {},
   "outputs": [],
   "source": [
    "from xgboost import XGBClassifier\n",
    "from sklearn.model_selection import train_test_split\n",
    "from sklearn.metrics import confusion_matrix, precision_score, recall_score, f1_score"
   ]
  },
  {
   "cell_type": "code",
   "execution_count": 7,
   "metadata": {},
   "outputs": [],
   "source": [
    "from sklearn.pipeline import Pipeline\n",
    "from sklearn.feature_extraction.text import CountVectorizer\n",
    "from sklearn.svm import LinearSVC\n",
    "from sklearn.feature_extraction.text import TfidfTransformer\n",
    "from sklearn.multiclass import OneVsRestClassifier\n",
    "import time\n",
    "import os"
   ]
  },
  {
   "cell_type": "code",
   "execution_count": 8,
   "metadata": {},
   "outputs": [],
   "source": [
    "#Visualization\n",
    "import matplotlib.pyplot as plt \n",
    "import seaborn as sns"
   ]
  },
  {
   "cell_type": "code",
   "execution_count": 9,
   "metadata": {},
   "outputs": [],
   "source": [
    "#Preprocessing related libraries\n",
    "import string\n",
    "import nltk\n",
    "from nltk.corpus import stopwords\n",
    "from nltk.classify import SklearnClassifier\n",
    "from wordcloud import WordCloud,STOPWORDS\n",
    "import warnings \n",
    "warnings.filterwarnings(\"ignore\", category=DeprecationWarning)"
   ]
  },
  {
   "cell_type": "code",
   "execution_count": 10,
   "metadata": {},
   "outputs": [
    {
     "name": "stdout",
     "output_type": "stream",
     "text": [
      "C:\\Users\\prasa\n"
     ]
    }
   ],
   "source": [
    "print(os.getcwd())"
   ]
  },
  {
   "cell_type": "markdown",
   "metadata": {},
   "source": [
    "# loading the training Data"
   ]
  },
  {
   "cell_type": "code",
   "execution_count": 11,
   "metadata": {},
   "outputs": [],
   "source": [
    "train = pd.read_csv(r\"C:/Users/prasa/Training Data.csv\")"
   ]
  },
  {
   "cell_type": "code",
   "execution_count": 12,
   "metadata": {},
   "outputs": [
    {
     "data": {
      "text/html": [
       "<div>\n",
       "<style scoped>\n",
       "    .dataframe tbody tr th:only-of-type {\n",
       "        vertical-align: middle;\n",
       "    }\n",
       "\n",
       "    .dataframe tbody tr th {\n",
       "        vertical-align: top;\n",
       "    }\n",
       "\n",
       "    .dataframe thead th {\n",
       "        text-align: right;\n",
       "    }\n",
       "</style>\n",
       "<table border=\"1\" class=\"dataframe\">\n",
       "  <thead>\n",
       "    <tr style=\"text-align: right;\">\n",
       "      <th></th>\n",
       "      <th>Company Name</th>\n",
       "      <th>Exchange:Ticker</th>\n",
       "      <th>Company Type</th>\n",
       "      <th>Company Status</th>\n",
       "      <th>Geographic Locations</th>\n",
       "      <th>Business Description</th>\n",
       "      <th>Industry Classifications</th>\n",
       "      <th>Security Tickers</th>\n",
       "    </tr>\n",
       "  </thead>\n",
       "  <tbody>\n",
       "    <tr>\n",
       "      <th>0</th>\n",
       "      <td>024 Pharma, Inc. (OTCPK:EEIG)</td>\n",
       "      <td>OTCPK:EEIG</td>\n",
       "      <td>Public Company</td>\n",
       "      <td>Operating</td>\n",
       "      <td>United States of America (Primary)</td>\n",
       "      <td>024 Pharma, Inc. provides healthcare products ...</td>\n",
       "      <td>Beauty Care Products (Primary); Consumer Stapl...</td>\n",
       "      <td>OTCPK:EEIG</td>\n",
       "    </tr>\n",
       "    <tr>\n",
       "      <th>1</th>\n",
       "      <td>1-800-FLOWERS.COM, Inc. (NasdaqGS:FLWS)</td>\n",
       "      <td>NasdaqGS:FLWS</td>\n",
       "      <td>Public Company</td>\n",
       "      <td>Operating</td>\n",
       "      <td>United States of America (Primary)</td>\n",
       "      <td>1-800-Flowers.com, Inc., together with its sub...</td>\n",
       "      <td>Catalog Flowers, Gifts and Novelties (Primary)...</td>\n",
       "      <td>NasdaqGS:FLWS; DB:FWC</td>\n",
       "    </tr>\n",
       "    <tr>\n",
       "      <th>2</th>\n",
       "      <td>12 Retech Corporation (OTCPK:RETC)</td>\n",
       "      <td>OTCPK:RETC</td>\n",
       "      <td>Public Company</td>\n",
       "      <td>Operating</td>\n",
       "      <td>United States of America (Primary)</td>\n",
       "      <td>12 Retech Corporation, through its subsidiarie...</td>\n",
       "      <td>Information Technology (Primary); Internet Sof...</td>\n",
       "      <td>OTCPK:RETC</td>\n",
       "    </tr>\n",
       "    <tr>\n",
       "      <th>3</th>\n",
       "      <td>1347 Property Insurance Holdings, Inc. (Nasdaq...</td>\n",
       "      <td>NasdaqGM:PIH</td>\n",
       "      <td>Public Company</td>\n",
       "      <td>Operating</td>\n",
       "      <td>United States of America (Primary)</td>\n",
       "      <td>1347 Property Insurance Holdings, Inc., throug...</td>\n",
       "      <td>Casualty (Primary); Financials (Primary); Fire...</td>\n",
       "      <td>NasdaqGM:PIH</td>\n",
       "    </tr>\n",
       "    <tr>\n",
       "      <th>4</th>\n",
       "      <td>1847 Holdings LLC (OTCPK:EFSH)</td>\n",
       "      <td>OTCPK:EFSH</td>\n",
       "      <td>Public Company</td>\n",
       "      <td>Operating</td>\n",
       "      <td>United States of America (Primary)</td>\n",
       "      <td>1847 Holdings LLC, through its subsidiaries, p...</td>\n",
       "      <td>Commercial and Professional Services (Primary)...</td>\n",
       "      <td>OTCPK:EFSH</td>\n",
       "    </tr>\n",
       "  </tbody>\n",
       "</table>\n",
       "</div>"
      ],
      "text/plain": [
       "                                        Company Name Exchange:Ticker  \\\n",
       "0                      024 Pharma, Inc. (OTCPK:EEIG)      OTCPK:EEIG   \n",
       "1            1-800-FLOWERS.COM, Inc. (NasdaqGS:FLWS)   NasdaqGS:FLWS   \n",
       "2                 12 Retech Corporation (OTCPK:RETC)      OTCPK:RETC   \n",
       "3  1347 Property Insurance Holdings, Inc. (Nasdaq...    NasdaqGM:PIH   \n",
       "4                     1847 Holdings LLC (OTCPK:EFSH)      OTCPK:EFSH   \n",
       "\n",
       "     Company Type Company Status                Geographic Locations  \\\n",
       "0  Public Company      Operating  United States of America (Primary)   \n",
       "1  Public Company      Operating  United States of America (Primary)   \n",
       "2  Public Company      Operating  United States of America (Primary)   \n",
       "3  Public Company      Operating  United States of America (Primary)   \n",
       "4  Public Company      Operating  United States of America (Primary)   \n",
       "\n",
       "                                Business Description  \\\n",
       "0  024 Pharma, Inc. provides healthcare products ...   \n",
       "1  1-800-Flowers.com, Inc., together with its sub...   \n",
       "2  12 Retech Corporation, through its subsidiarie...   \n",
       "3  1347 Property Insurance Holdings, Inc., throug...   \n",
       "4  1847 Holdings LLC, through its subsidiaries, p...   \n",
       "\n",
       "                            Industry Classifications       Security Tickers  \n",
       "0  Beauty Care Products (Primary); Consumer Stapl...             OTCPK:EEIG  \n",
       "1  Catalog Flowers, Gifts and Novelties (Primary)...  NasdaqGS:FLWS; DB:FWC  \n",
       "2  Information Technology (Primary); Internet Sof...             OTCPK:RETC  \n",
       "3  Casualty (Primary); Financials (Primary); Fire...           NasdaqGM:PIH  \n",
       "4  Commercial and Professional Services (Primary)...             OTCPK:EFSH  "
      ]
     },
     "execution_count": 12,
     "metadata": {},
     "output_type": "execute_result"
    }
   ],
   "source": [
    "train.drop(train.columns[train.columns.str.contains('unnamed',case = False)],axis = 1, inplace = True)\n",
    "train.head()"
   ]
  },
  {
   "cell_type": "code",
   "execution_count": 13,
   "metadata": {},
   "outputs": [],
   "source": [
    "\n",
    "#Identifying the first Tag for all rows\n",
    "first_tag = []\n",
    "for str in train['Industry Classifications']:\n",
    "    first_tag.append(str.split(';')[0])"
   ]
  },
  {
   "cell_type": "code",
   "execution_count": 14,
   "metadata": {},
   "outputs": [
    {
     "data": {
      "text/html": [
       "<div>\n",
       "<style scoped>\n",
       "    .dataframe tbody tr th:only-of-type {\n",
       "        vertical-align: middle;\n",
       "    }\n",
       "\n",
       "    .dataframe tbody tr th {\n",
       "        vertical-align: top;\n",
       "    }\n",
       "\n",
       "    .dataframe thead th {\n",
       "        text-align: right;\n",
       "    }\n",
       "</style>\n",
       "<table border=\"1\" class=\"dataframe\">\n",
       "  <thead>\n",
       "    <tr style=\"text-align: right;\">\n",
       "      <th></th>\n",
       "      <th>Company Name</th>\n",
       "      <th>Exchange:Ticker</th>\n",
       "      <th>Company Type</th>\n",
       "      <th>Company Status</th>\n",
       "      <th>Geographic Locations</th>\n",
       "      <th>Business Description</th>\n",
       "      <th>Industry Classifications</th>\n",
       "      <th>Security Tickers</th>\n",
       "    </tr>\n",
       "  </thead>\n",
       "  <tbody>\n",
       "    <tr>\n",
       "      <th>0</th>\n",
       "      <td>024 Pharma, Inc. (OTCPK:EEIG)</td>\n",
       "      <td>OTCPK:EEIG</td>\n",
       "      <td>Public Company</td>\n",
       "      <td>Operating</td>\n",
       "      <td>United States of America (Primary)</td>\n",
       "      <td>024 Pharma, Inc. provides healthcare products ...</td>\n",
       "      <td>Beauty Care Products (Primary); Consumer Stapl...</td>\n",
       "      <td>OTCPK:EEIG</td>\n",
       "    </tr>\n",
       "    <tr>\n",
       "      <th>1</th>\n",
       "      <td>1-800-FLOWERS.COM, Inc. (NasdaqGS:FLWS)</td>\n",
       "      <td>NasdaqGS:FLWS</td>\n",
       "      <td>Public Company</td>\n",
       "      <td>Operating</td>\n",
       "      <td>United States of America (Primary)</td>\n",
       "      <td>1-800-Flowers.com, Inc., together with its sub...</td>\n",
       "      <td>Catalog Flowers, Gifts and Novelties (Primary)...</td>\n",
       "      <td>NasdaqGS:FLWS; DB:FWC</td>\n",
       "    </tr>\n",
       "    <tr>\n",
       "      <th>2</th>\n",
       "      <td>12 Retech Corporation (OTCPK:RETC)</td>\n",
       "      <td>OTCPK:RETC</td>\n",
       "      <td>Public Company</td>\n",
       "      <td>Operating</td>\n",
       "      <td>United States of America (Primary)</td>\n",
       "      <td>12 Retech Corporation, through its subsidiarie...</td>\n",
       "      <td>Information Technology (Primary); Internet Sof...</td>\n",
       "      <td>OTCPK:RETC</td>\n",
       "    </tr>\n",
       "    <tr>\n",
       "      <th>3</th>\n",
       "      <td>1347 Property Insurance Holdings, Inc. (Nasdaq...</td>\n",
       "      <td>NasdaqGM:PIH</td>\n",
       "      <td>Public Company</td>\n",
       "      <td>Operating</td>\n",
       "      <td>United States of America (Primary)</td>\n",
       "      <td>1347 Property Insurance Holdings, Inc., throug...</td>\n",
       "      <td>Casualty (Primary); Financials (Primary); Fire...</td>\n",
       "      <td>NasdaqGM:PIH</td>\n",
       "    </tr>\n",
       "    <tr>\n",
       "      <th>4</th>\n",
       "      <td>1847 Holdings LLC (OTCPK:EFSH)</td>\n",
       "      <td>OTCPK:EFSH</td>\n",
       "      <td>Public Company</td>\n",
       "      <td>Operating</td>\n",
       "      <td>United States of America (Primary)</td>\n",
       "      <td>1847 Holdings LLC, through its subsidiaries, p...</td>\n",
       "      <td>Commercial and Professional Services (Primary)...</td>\n",
       "      <td>OTCPK:EFSH</td>\n",
       "    </tr>\n",
       "  </tbody>\n",
       "</table>\n",
       "</div>"
      ],
      "text/plain": [
       "                                        Company Name Exchange:Ticker  \\\n",
       "0                      024 Pharma, Inc. (OTCPK:EEIG)      OTCPK:EEIG   \n",
       "1            1-800-FLOWERS.COM, Inc. (NasdaqGS:FLWS)   NasdaqGS:FLWS   \n",
       "2                 12 Retech Corporation (OTCPK:RETC)      OTCPK:RETC   \n",
       "3  1347 Property Insurance Holdings, Inc. (Nasdaq...    NasdaqGM:PIH   \n",
       "4                     1847 Holdings LLC (OTCPK:EFSH)      OTCPK:EFSH   \n",
       "\n",
       "     Company Type Company Status                Geographic Locations  \\\n",
       "0  Public Company      Operating  United States of America (Primary)   \n",
       "1  Public Company      Operating  United States of America (Primary)   \n",
       "2  Public Company      Operating  United States of America (Primary)   \n",
       "3  Public Company      Operating  United States of America (Primary)   \n",
       "4  Public Company      Operating  United States of America (Primary)   \n",
       "\n",
       "                                Business Description  \\\n",
       "0  024 Pharma, Inc. provides healthcare products ...   \n",
       "1  1-800-Flowers.com, Inc., together with its sub...   \n",
       "2  12 Retech Corporation, through its subsidiarie...   \n",
       "3  1347 Property Insurance Holdings, Inc., throug...   \n",
       "4  1847 Holdings LLC, through its subsidiaries, p...   \n",
       "\n",
       "                            Industry Classifications       Security Tickers  \n",
       "0  Beauty Care Products (Primary); Consumer Stapl...             OTCPK:EEIG  \n",
       "1  Catalog Flowers, Gifts and Novelties (Primary)...  NasdaqGS:FLWS; DB:FWC  \n",
       "2  Information Technology (Primary); Internet Sof...             OTCPK:RETC  \n",
       "3  Casualty (Primary); Financials (Primary); Fire...           NasdaqGM:PIH  \n",
       "4  Commercial and Professional Services (Primary)...             OTCPK:EFSH  "
      ]
     },
     "execution_count": 14,
     "metadata": {},
     "output_type": "execute_result"
    }
   ],
   "source": [
    "train.head()"
   ]
  },
  {
   "cell_type": "code",
   "execution_count": 15,
   "metadata": {},
   "outputs": [
    {
     "data": {
      "text/plain": [
       "2002"
      ]
     },
     "execution_count": 15,
     "metadata": {},
     "output_type": "execute_result"
    }
   ],
   "source": [
    "#Number of Records in First_Tag\n",
    "len(first_tag)"
   ]
  },
  {
   "cell_type": "code",
   "execution_count": 16,
   "metadata": {},
   "outputs": [],
   "source": [
    "#Adding a new feature into the training dataset\n",
    "train['First_Tag'] = first_tag"
   ]
  },
  {
   "cell_type": "code",
   "execution_count": 17,
   "metadata": {},
   "outputs": [
    {
     "data": {
      "text/html": [
       "<div>\n",
       "<style scoped>\n",
       "    .dataframe tbody tr th:only-of-type {\n",
       "        vertical-align: middle;\n",
       "    }\n",
       "\n",
       "    .dataframe tbody tr th {\n",
       "        vertical-align: top;\n",
       "    }\n",
       "\n",
       "    .dataframe thead th {\n",
       "        text-align: right;\n",
       "    }\n",
       "</style>\n",
       "<table border=\"1\" class=\"dataframe\">\n",
       "  <thead>\n",
       "    <tr style=\"text-align: right;\">\n",
       "      <th></th>\n",
       "      <th>Company Name</th>\n",
       "      <th>Exchange:Ticker</th>\n",
       "      <th>Company Type</th>\n",
       "      <th>Company Status</th>\n",
       "      <th>Geographic Locations</th>\n",
       "      <th>Business Description</th>\n",
       "      <th>Industry Classifications</th>\n",
       "      <th>Security Tickers</th>\n",
       "      <th>First_Tag</th>\n",
       "    </tr>\n",
       "  </thead>\n",
       "  <tbody>\n",
       "    <tr>\n",
       "      <th>0</th>\n",
       "      <td>024 Pharma, Inc. (OTCPK:EEIG)</td>\n",
       "      <td>OTCPK:EEIG</td>\n",
       "      <td>Public Company</td>\n",
       "      <td>Operating</td>\n",
       "      <td>United States of America (Primary)</td>\n",
       "      <td>024 Pharma, Inc. provides healthcare products ...</td>\n",
       "      <td>Beauty Care Products (Primary); Consumer Stapl...</td>\n",
       "      <td>OTCPK:EEIG</td>\n",
       "      <td>Beauty Care Products (Primary)</td>\n",
       "    </tr>\n",
       "    <tr>\n",
       "      <th>1</th>\n",
       "      <td>1-800-FLOWERS.COM, Inc. (NasdaqGS:FLWS)</td>\n",
       "      <td>NasdaqGS:FLWS</td>\n",
       "      <td>Public Company</td>\n",
       "      <td>Operating</td>\n",
       "      <td>United States of America (Primary)</td>\n",
       "      <td>1-800-Flowers.com, Inc., together with its sub...</td>\n",
       "      <td>Catalog Flowers, Gifts and Novelties (Primary)...</td>\n",
       "      <td>NasdaqGS:FLWS; DB:FWC</td>\n",
       "      <td>Catalog Flowers, Gifts and Novelties (Primary)</td>\n",
       "    </tr>\n",
       "    <tr>\n",
       "      <th>2</th>\n",
       "      <td>12 Retech Corporation (OTCPK:RETC)</td>\n",
       "      <td>OTCPK:RETC</td>\n",
       "      <td>Public Company</td>\n",
       "      <td>Operating</td>\n",
       "      <td>United States of America (Primary)</td>\n",
       "      <td>12 Retech Corporation, through its subsidiarie...</td>\n",
       "      <td>Information Technology (Primary); Internet Sof...</td>\n",
       "      <td>OTCPK:RETC</td>\n",
       "      <td>Information Technology (Primary)</td>\n",
       "    </tr>\n",
       "    <tr>\n",
       "      <th>3</th>\n",
       "      <td>1347 Property Insurance Holdings, Inc. (Nasdaq...</td>\n",
       "      <td>NasdaqGM:PIH</td>\n",
       "      <td>Public Company</td>\n",
       "      <td>Operating</td>\n",
       "      <td>United States of America (Primary)</td>\n",
       "      <td>1347 Property Insurance Holdings, Inc., throug...</td>\n",
       "      <td>Casualty (Primary); Financials (Primary); Fire...</td>\n",
       "      <td>NasdaqGM:PIH</td>\n",
       "      <td>Casualty (Primary)</td>\n",
       "    </tr>\n",
       "    <tr>\n",
       "      <th>4</th>\n",
       "      <td>1847 Holdings LLC (OTCPK:EFSH)</td>\n",
       "      <td>OTCPK:EFSH</td>\n",
       "      <td>Public Company</td>\n",
       "      <td>Operating</td>\n",
       "      <td>United States of America (Primary)</td>\n",
       "      <td>1847 Holdings LLC, through its subsidiaries, p...</td>\n",
       "      <td>Commercial and Professional Services (Primary)...</td>\n",
       "      <td>OTCPK:EFSH</td>\n",
       "      <td>Commercial and Professional Services (Primary)</td>\n",
       "    </tr>\n",
       "  </tbody>\n",
       "</table>\n",
       "</div>"
      ],
      "text/plain": [
       "                                        Company Name Exchange:Ticker  \\\n",
       "0                      024 Pharma, Inc. (OTCPK:EEIG)      OTCPK:EEIG   \n",
       "1            1-800-FLOWERS.COM, Inc. (NasdaqGS:FLWS)   NasdaqGS:FLWS   \n",
       "2                 12 Retech Corporation (OTCPK:RETC)      OTCPK:RETC   \n",
       "3  1347 Property Insurance Holdings, Inc. (Nasdaq...    NasdaqGM:PIH   \n",
       "4                     1847 Holdings LLC (OTCPK:EFSH)      OTCPK:EFSH   \n",
       "\n",
       "     Company Type Company Status                Geographic Locations  \\\n",
       "0  Public Company      Operating  United States of America (Primary)   \n",
       "1  Public Company      Operating  United States of America (Primary)   \n",
       "2  Public Company      Operating  United States of America (Primary)   \n",
       "3  Public Company      Operating  United States of America (Primary)   \n",
       "4  Public Company      Operating  United States of America (Primary)   \n",
       "\n",
       "                                Business Description  \\\n",
       "0  024 Pharma, Inc. provides healthcare products ...   \n",
       "1  1-800-Flowers.com, Inc., together with its sub...   \n",
       "2  12 Retech Corporation, through its subsidiarie...   \n",
       "3  1347 Property Insurance Holdings, Inc., throug...   \n",
       "4  1847 Holdings LLC, through its subsidiaries, p...   \n",
       "\n",
       "                            Industry Classifications       Security Tickers  \\\n",
       "0  Beauty Care Products (Primary); Consumer Stapl...             OTCPK:EEIG   \n",
       "1  Catalog Flowers, Gifts and Novelties (Primary)...  NasdaqGS:FLWS; DB:FWC   \n",
       "2  Information Technology (Primary); Internet Sof...             OTCPK:RETC   \n",
       "3  Casualty (Primary); Financials (Primary); Fire...           NasdaqGM:PIH   \n",
       "4  Commercial and Professional Services (Primary)...             OTCPK:EFSH   \n",
       "\n",
       "                                        First_Tag  \n",
       "0                  Beauty Care Products (Primary)  \n",
       "1  Catalog Flowers, Gifts and Novelties (Primary)  \n",
       "2                Information Technology (Primary)  \n",
       "3                              Casualty (Primary)  \n",
       "4  Commercial and Professional Services (Primary)  "
      ]
     },
     "execution_count": 17,
     "metadata": {},
     "output_type": "execute_result"
    }
   ],
   "source": [
    "train.head()"
   ]
  },
  {
   "cell_type": "code",
   "execution_count": 18,
   "metadata": {},
   "outputs": [
    {
     "data": {
      "text/plain": [
       "array(['United States of America (Primary)'], dtype=object)"
      ]
     },
     "execution_count": 18,
     "metadata": {},
     "output_type": "execute_result"
    }
   ],
   "source": [
    "#Unique Values for Geographic Locations\n",
    "train['Geographic Locations'].unique()"
   ]
  },
  {
   "cell_type": "code",
   "execution_count": 19,
   "metadata": {},
   "outputs": [
    {
     "data": {
      "text/plain": [
       "array(['Operating'], dtype=object)"
      ]
     },
     "execution_count": 19,
     "metadata": {},
     "output_type": "execute_result"
    }
   ],
   "source": [
    "#Unique Values for CompanyStatus\n",
    "train['Company Status'].unique()"
   ]
  },
  {
   "cell_type": "code",
   "execution_count": 20,
   "metadata": {},
   "outputs": [
    {
     "data": {
      "text/plain": [
       "array(['Public Company'], dtype=object)"
      ]
     },
     "execution_count": 20,
     "metadata": {},
     "output_type": "execute_result"
    }
   ],
   "source": [
    "train['Company Type'].unique()"
   ]
  },
  {
   "cell_type": "code",
   "execution_count": 21,
   "metadata": {},
   "outputs": [],
   "source": [
    "#Abstracting CompanyName,BusinessDescription,IndustryClassification from train into a new dataset\n",
    "train_ana = train[['Company Name','Business Description','First_Tag']]"
   ]
  },
  {
   "cell_type": "code",
   "execution_count": 22,
   "metadata": {},
   "outputs": [
    {
     "data": {
      "text/html": [
       "<div>\n",
       "<style scoped>\n",
       "    .dataframe tbody tr th:only-of-type {\n",
       "        vertical-align: middle;\n",
       "    }\n",
       "\n",
       "    .dataframe tbody tr th {\n",
       "        vertical-align: top;\n",
       "    }\n",
       "\n",
       "    .dataframe thead th {\n",
       "        text-align: right;\n",
       "    }\n",
       "</style>\n",
       "<table border=\"1\" class=\"dataframe\">\n",
       "  <thead>\n",
       "    <tr style=\"text-align: right;\">\n",
       "      <th></th>\n",
       "      <th>Company Name</th>\n",
       "      <th>Business Description</th>\n",
       "      <th>First_Tag</th>\n",
       "    </tr>\n",
       "  </thead>\n",
       "  <tbody>\n",
       "    <tr>\n",
       "      <th>0</th>\n",
       "      <td>024 Pharma, Inc. (OTCPK:EEIG)</td>\n",
       "      <td>024 Pharma, Inc. provides healthcare products ...</td>\n",
       "      <td>Beauty Care Products (Primary)</td>\n",
       "    </tr>\n",
       "    <tr>\n",
       "      <th>1</th>\n",
       "      <td>1-800-FLOWERS.COM, Inc. (NasdaqGS:FLWS)</td>\n",
       "      <td>1-800-Flowers.com, Inc., together with its sub...</td>\n",
       "      <td>Catalog Flowers, Gifts and Novelties (Primary)</td>\n",
       "    </tr>\n",
       "  </tbody>\n",
       "</table>\n",
       "</div>"
      ],
      "text/plain": [
       "                              Company Name  \\\n",
       "0            024 Pharma, Inc. (OTCPK:EEIG)   \n",
       "1  1-800-FLOWERS.COM, Inc. (NasdaqGS:FLWS)   \n",
       "\n",
       "                                Business Description  \\\n",
       "0  024 Pharma, Inc. provides healthcare products ...   \n",
       "1  1-800-Flowers.com, Inc., together with its sub...   \n",
       "\n",
       "                                        First_Tag  \n",
       "0                  Beauty Care Products (Primary)  \n",
       "1  Catalog Flowers, Gifts and Novelties (Primary)  "
      ]
     },
     "execution_count": 22,
     "metadata": {},
     "output_type": "execute_result"
    }
   ],
   "source": [
    "train_ana.head(2)"
   ]
  },
  {
   "cell_type": "markdown",
   "metadata": {},
   "source": [
    "# We will now carry out all the Text Preprocessing steps on the 'Business Description' field\n",
    "#converting all letters to lower or upper case \n",
    "#converting numbers into words or removing numbers\n",
    "#removing punctuations, accent marks and other diacritics\n",
    "#removing white spaces\n",
    "#expanding abbreviations\n",
    "#removing stop words, sparse terms, and particular words\n",
    "#text canonicalization"
   ]
  },
  {
   "cell_type": "markdown",
   "metadata": {},
   "source": [
    "# Convert text to lowercase"
   ]
  },
  {
   "cell_type": "code",
   "execution_count": 23,
   "metadata": {},
   "outputs": [
    {
     "name": "stderr",
     "output_type": "stream",
     "text": [
      "C:\\Users\\prasa\\anaconda3\\lib\\site-packages\\ipykernel_launcher.py:2: SettingWithCopyWarning: \n",
      "A value is trying to be set on a copy of a slice from a DataFrame.\n",
      "Try using .loc[row_indexer,col_indexer] = value instead\n",
      "\n",
      "See the caveats in the documentation: https://pandas.pydata.org/pandas-docs/stable/user_guide/indexing.html#returning-a-view-versus-a-copy\n",
      "  \n"
     ]
    }
   ],
   "source": [
    "#Adding and additional field named \" Tidy Description\", where we will store the transformed description\n",
    "train_ana['Tidy_Desc'] = train_ana['Business Description'].str.lower()"
   ]
  },
  {
   "cell_type": "code",
   "execution_count": 24,
   "metadata": {},
   "outputs": [
    {
     "data": {
      "text/html": [
       "<div>\n",
       "<style scoped>\n",
       "    .dataframe tbody tr th:only-of-type {\n",
       "        vertical-align: middle;\n",
       "    }\n",
       "\n",
       "    .dataframe tbody tr th {\n",
       "        vertical-align: top;\n",
       "    }\n",
       "\n",
       "    .dataframe thead th {\n",
       "        text-align: right;\n",
       "    }\n",
       "</style>\n",
       "<table border=\"1\" class=\"dataframe\">\n",
       "  <thead>\n",
       "    <tr style=\"text-align: right;\">\n",
       "      <th></th>\n",
       "      <th>Company Name</th>\n",
       "      <th>Business Description</th>\n",
       "      <th>First_Tag</th>\n",
       "      <th>Tidy_Desc</th>\n",
       "    </tr>\n",
       "  </thead>\n",
       "  <tbody>\n",
       "    <tr>\n",
       "      <th>0</th>\n",
       "      <td>024 Pharma, Inc. (OTCPK:EEIG)</td>\n",
       "      <td>024 Pharma, Inc. provides healthcare products ...</td>\n",
       "      <td>Beauty Care Products (Primary)</td>\n",
       "      <td>024 pharma, inc. provides healthcare products ...</td>\n",
       "    </tr>\n",
       "    <tr>\n",
       "      <th>1</th>\n",
       "      <td>1-800-FLOWERS.COM, Inc. (NasdaqGS:FLWS)</td>\n",
       "      <td>1-800-Flowers.com, Inc., together with its sub...</td>\n",
       "      <td>Catalog Flowers, Gifts and Novelties (Primary)</td>\n",
       "      <td>1-800-flowers.com, inc., together with its sub...</td>\n",
       "    </tr>\n",
       "    <tr>\n",
       "      <th>2</th>\n",
       "      <td>12 Retech Corporation (OTCPK:RETC)</td>\n",
       "      <td>12 Retech Corporation, through its subsidiarie...</td>\n",
       "      <td>Information Technology (Primary)</td>\n",
       "      <td>12 retech corporation, through its subsidiarie...</td>\n",
       "    </tr>\n",
       "    <tr>\n",
       "      <th>3</th>\n",
       "      <td>1347 Property Insurance Holdings, Inc. (Nasdaq...</td>\n",
       "      <td>1347 Property Insurance Holdings, Inc., throug...</td>\n",
       "      <td>Casualty (Primary)</td>\n",
       "      <td>1347 property insurance holdings, inc., throug...</td>\n",
       "    </tr>\n",
       "    <tr>\n",
       "      <th>4</th>\n",
       "      <td>1847 Holdings LLC (OTCPK:EFSH)</td>\n",
       "      <td>1847 Holdings LLC, through its subsidiaries, p...</td>\n",
       "      <td>Commercial and Professional Services (Primary)</td>\n",
       "      <td>1847 holdings llc, through its subsidiaries, p...</td>\n",
       "    </tr>\n",
       "  </tbody>\n",
       "</table>\n",
       "</div>"
      ],
      "text/plain": [
       "                                        Company Name  \\\n",
       "0                      024 Pharma, Inc. (OTCPK:EEIG)   \n",
       "1            1-800-FLOWERS.COM, Inc. (NasdaqGS:FLWS)   \n",
       "2                 12 Retech Corporation (OTCPK:RETC)   \n",
       "3  1347 Property Insurance Holdings, Inc. (Nasdaq...   \n",
       "4                     1847 Holdings LLC (OTCPK:EFSH)   \n",
       "\n",
       "                                Business Description  \\\n",
       "0  024 Pharma, Inc. provides healthcare products ...   \n",
       "1  1-800-Flowers.com, Inc., together with its sub...   \n",
       "2  12 Retech Corporation, through its subsidiarie...   \n",
       "3  1347 Property Insurance Holdings, Inc., throug...   \n",
       "4  1847 Holdings LLC, through its subsidiaries, p...   \n",
       "\n",
       "                                        First_Tag  \\\n",
       "0                  Beauty Care Products (Primary)   \n",
       "1  Catalog Flowers, Gifts and Novelties (Primary)   \n",
       "2                Information Technology (Primary)   \n",
       "3                              Casualty (Primary)   \n",
       "4  Commercial and Professional Services (Primary)   \n",
       "\n",
       "                                           Tidy_Desc  \n",
       "0  024 pharma, inc. provides healthcare products ...  \n",
       "1  1-800-flowers.com, inc., together with its sub...  \n",
       "2  12 retech corporation, through its subsidiarie...  \n",
       "3  1347 property insurance holdings, inc., throug...  \n",
       "4  1847 holdings llc, through its subsidiaries, p...  "
      ]
     },
     "execution_count": 24,
     "metadata": {},
     "output_type": "execute_result"
    }
   ],
   "source": [
    "train_ana.head()"
   ]
  },
  {
   "cell_type": "markdown",
   "metadata": {},
   "source": [
    "# Remove numbers"
   ]
  },
  {
   "cell_type": "code",
   "execution_count": 25,
   "metadata": {},
   "outputs": [],
   "source": [
    "import re\n",
    "#Function to remove any additional special characters, if needed.\n",
    "def remove_pattern(input_txt, pattern):\n",
    "    r = re.findall(pattern, input_txt)\n",
    "    for i in r:\n",
    "        input_txt = re.sub(i, '', input_txt)\n",
    "        \n",
    "    return input_txt"
   ]
  },
  {
   "cell_type": "code",
   "execution_count": 26,
   "metadata": {},
   "outputs": [
    {
     "name": "stderr",
     "output_type": "stream",
     "text": [
      "C:\\Users\\prasa\\anaconda3\\lib\\site-packages\\pandas\\core\\generic.py:5303: SettingWithCopyWarning: \n",
      "A value is trying to be set on a copy of a slice from a DataFrame.\n",
      "Try using .loc[row_indexer,col_indexer] = value instead\n",
      "\n",
      "See the caveats in the documentation: https://pandas.pydata.org/pandas-docs/stable/user_guide/indexing.html#returning-a-view-versus-a-copy\n",
      "  self[name] = value\n"
     ]
    }
   ],
   "source": [
    "#Facts: Translate function has been changed from Python 2.x to Python 3.x\n",
    "#It now takes only one output\n",
    "train_ana.Tidy_Desc = train_ana.Tidy_Desc.apply(lambda x: x.translate({ord(c):'' for c in \"1234567890\"}))"
   ]
  },
  {
   "cell_type": "code",
   "execution_count": 27,
   "metadata": {},
   "outputs": [
    {
     "data": {
      "text/html": [
       "<div>\n",
       "<style scoped>\n",
       "    .dataframe tbody tr th:only-of-type {\n",
       "        vertical-align: middle;\n",
       "    }\n",
       "\n",
       "    .dataframe tbody tr th {\n",
       "        vertical-align: top;\n",
       "    }\n",
       "\n",
       "    .dataframe thead th {\n",
       "        text-align: right;\n",
       "    }\n",
       "</style>\n",
       "<table border=\"1\" class=\"dataframe\">\n",
       "  <thead>\n",
       "    <tr style=\"text-align: right;\">\n",
       "      <th></th>\n",
       "      <th>Company Name</th>\n",
       "      <th>Business Description</th>\n",
       "      <th>First_Tag</th>\n",
       "      <th>Tidy_Desc</th>\n",
       "    </tr>\n",
       "  </thead>\n",
       "  <tbody>\n",
       "    <tr>\n",
       "      <th>0</th>\n",
       "      <td>024 Pharma, Inc. (OTCPK:EEIG)</td>\n",
       "      <td>024 Pharma, Inc. provides healthcare products ...</td>\n",
       "      <td>Beauty Care Products (Primary)</td>\n",
       "      <td>pharma, inc. provides healthcare products wor...</td>\n",
       "    </tr>\n",
       "    <tr>\n",
       "      <th>1</th>\n",
       "      <td>1-800-FLOWERS.COM, Inc. (NasdaqGS:FLWS)</td>\n",
       "      <td>1-800-Flowers.com, Inc., together with its sub...</td>\n",
       "      <td>Catalog Flowers, Gifts and Novelties (Primary)</td>\n",
       "      <td>--flowers.com, inc., together with its subsidi...</td>\n",
       "    </tr>\n",
       "    <tr>\n",
       "      <th>2</th>\n",
       "      <td>12 Retech Corporation (OTCPK:RETC)</td>\n",
       "      <td>12 Retech Corporation, through its subsidiarie...</td>\n",
       "      <td>Information Technology (Primary)</td>\n",
       "      <td>retech corporation, through its subsidiaries,...</td>\n",
       "    </tr>\n",
       "    <tr>\n",
       "      <th>3</th>\n",
       "      <td>1347 Property Insurance Holdings, Inc. (Nasdaq...</td>\n",
       "      <td>1347 Property Insurance Holdings, Inc., throug...</td>\n",
       "      <td>Casualty (Primary)</td>\n",
       "      <td>property insurance holdings, inc., through it...</td>\n",
       "    </tr>\n",
       "    <tr>\n",
       "      <th>4</th>\n",
       "      <td>1847 Holdings LLC (OTCPK:EFSH)</td>\n",
       "      <td>1847 Holdings LLC, through its subsidiaries, p...</td>\n",
       "      <td>Commercial and Professional Services (Primary)</td>\n",
       "      <td>holdings llc, through its subsidiaries, provi...</td>\n",
       "    </tr>\n",
       "  </tbody>\n",
       "</table>\n",
       "</div>"
      ],
      "text/plain": [
       "                                        Company Name  \\\n",
       "0                      024 Pharma, Inc. (OTCPK:EEIG)   \n",
       "1            1-800-FLOWERS.COM, Inc. (NasdaqGS:FLWS)   \n",
       "2                 12 Retech Corporation (OTCPK:RETC)   \n",
       "3  1347 Property Insurance Holdings, Inc. (Nasdaq...   \n",
       "4                     1847 Holdings LLC (OTCPK:EFSH)   \n",
       "\n",
       "                                Business Description  \\\n",
       "0  024 Pharma, Inc. provides healthcare products ...   \n",
       "1  1-800-Flowers.com, Inc., together with its sub...   \n",
       "2  12 Retech Corporation, through its subsidiarie...   \n",
       "3  1347 Property Insurance Holdings, Inc., throug...   \n",
       "4  1847 Holdings LLC, through its subsidiaries, p...   \n",
       "\n",
       "                                        First_Tag  \\\n",
       "0                  Beauty Care Products (Primary)   \n",
       "1  Catalog Flowers, Gifts and Novelties (Primary)   \n",
       "2                Information Technology (Primary)   \n",
       "3                              Casualty (Primary)   \n",
       "4  Commercial and Professional Services (Primary)   \n",
       "\n",
       "                                           Tidy_Desc  \n",
       "0   pharma, inc. provides healthcare products wor...  \n",
       "1  --flowers.com, inc., together with its subsidi...  \n",
       "2   retech corporation, through its subsidiaries,...  \n",
       "3   property insurance holdings, inc., through it...  \n",
       "4   holdings llc, through its subsidiaries, provi...  "
      ]
     },
     "execution_count": 27,
     "metadata": {},
     "output_type": "execute_result"
    }
   ],
   "source": [
    "train_ana.head()"
   ]
  },
  {
   "cell_type": "markdown",
   "metadata": {},
   "source": [
    "# Removing punctuations, accent marks and other diacritics¶"
   ]
  },
  {
   "cell_type": "code",
   "execution_count": 28,
   "metadata": {},
   "outputs": [
    {
     "name": "stderr",
     "output_type": "stream",
     "text": [
      "C:\\Users\\prasa\\anaconda3\\lib\\site-packages\\pandas\\core\\generic.py:5303: SettingWithCopyWarning: \n",
      "A value is trying to be set on a copy of a slice from a DataFrame.\n",
      "Try using .loc[row_indexer,col_indexer] = value instead\n",
      "\n",
      "See the caveats in the documentation: https://pandas.pydata.org/pandas-docs/stable/user_guide/indexing.html#returning-a-view-versus-a-copy\n",
      "  self[name] = value\n"
     ]
    }
   ],
   "source": [
    "#[!”#$%&’()*+,-./:;<=>?@[\\]^_`{|}~]\n",
    "train_ana.Tidy_Desc=train_ana.Tidy_Desc.apply(lambda x: x.translate({ord(c):'' for c in \"[!”#$%&’()*+,-./:;<=>?@[\\]^_`{|}~]\"}))"
   ]
  },
  {
   "cell_type": "code",
   "execution_count": 29,
   "metadata": {},
   "outputs": [
    {
     "data": {
      "text/html": [
       "<div>\n",
       "<style scoped>\n",
       "    .dataframe tbody tr th:only-of-type {\n",
       "        vertical-align: middle;\n",
       "    }\n",
       "\n",
       "    .dataframe tbody tr th {\n",
       "        vertical-align: top;\n",
       "    }\n",
       "\n",
       "    .dataframe thead th {\n",
       "        text-align: right;\n",
       "    }\n",
       "</style>\n",
       "<table border=\"1\" class=\"dataframe\">\n",
       "  <thead>\n",
       "    <tr style=\"text-align: right;\">\n",
       "      <th></th>\n",
       "      <th>Company Name</th>\n",
       "      <th>Business Description</th>\n",
       "      <th>First_Tag</th>\n",
       "      <th>Tidy_Desc</th>\n",
       "    </tr>\n",
       "  </thead>\n",
       "  <tbody>\n",
       "    <tr>\n",
       "      <th>0</th>\n",
       "      <td>024 Pharma, Inc. (OTCPK:EEIG)</td>\n",
       "      <td>024 Pharma, Inc. provides healthcare products ...</td>\n",
       "      <td>Beauty Care Products (Primary)</td>\n",
       "      <td>pharma inc provides healthcare products world...</td>\n",
       "    </tr>\n",
       "    <tr>\n",
       "      <th>1</th>\n",
       "      <td>1-800-FLOWERS.COM, Inc. (NasdaqGS:FLWS)</td>\n",
       "      <td>1-800-Flowers.com, Inc., together with its sub...</td>\n",
       "      <td>Catalog Flowers, Gifts and Novelties (Primary)</td>\n",
       "      <td>flowerscom inc together with its subsidiaries ...</td>\n",
       "    </tr>\n",
       "    <tr>\n",
       "      <th>2</th>\n",
       "      <td>12 Retech Corporation (OTCPK:RETC)</td>\n",
       "      <td>12 Retech Corporation, through its subsidiarie...</td>\n",
       "      <td>Information Technology (Primary)</td>\n",
       "      <td>retech corporation through its subsidiaries o...</td>\n",
       "    </tr>\n",
       "    <tr>\n",
       "      <th>3</th>\n",
       "      <td>1347 Property Insurance Holdings, Inc. (Nasdaq...</td>\n",
       "      <td>1347 Property Insurance Holdings, Inc., throug...</td>\n",
       "      <td>Casualty (Primary)</td>\n",
       "      <td>property insurance holdings inc through its s...</td>\n",
       "    </tr>\n",
       "    <tr>\n",
       "      <th>4</th>\n",
       "      <td>1847 Holdings LLC (OTCPK:EFSH)</td>\n",
       "      <td>1847 Holdings LLC, through its subsidiaries, p...</td>\n",
       "      <td>Commercial and Professional Services (Primary)</td>\n",
       "      <td>holdings llc through its subsidiaries provide...</td>\n",
       "    </tr>\n",
       "  </tbody>\n",
       "</table>\n",
       "</div>"
      ],
      "text/plain": [
       "                                        Company Name  \\\n",
       "0                      024 Pharma, Inc. (OTCPK:EEIG)   \n",
       "1            1-800-FLOWERS.COM, Inc. (NasdaqGS:FLWS)   \n",
       "2                 12 Retech Corporation (OTCPK:RETC)   \n",
       "3  1347 Property Insurance Holdings, Inc. (Nasdaq...   \n",
       "4                     1847 Holdings LLC (OTCPK:EFSH)   \n",
       "\n",
       "                                Business Description  \\\n",
       "0  024 Pharma, Inc. provides healthcare products ...   \n",
       "1  1-800-Flowers.com, Inc., together with its sub...   \n",
       "2  12 Retech Corporation, through its subsidiarie...   \n",
       "3  1347 Property Insurance Holdings, Inc., throug...   \n",
       "4  1847 Holdings LLC, through its subsidiaries, p...   \n",
       "\n",
       "                                        First_Tag  \\\n",
       "0                  Beauty Care Products (Primary)   \n",
       "1  Catalog Flowers, Gifts and Novelties (Primary)   \n",
       "2                Information Technology (Primary)   \n",
       "3                              Casualty (Primary)   \n",
       "4  Commercial and Professional Services (Primary)   \n",
       "\n",
       "                                           Tidy_Desc  \n",
       "0   pharma inc provides healthcare products world...  \n",
       "1  flowerscom inc together with its subsidiaries ...  \n",
       "2   retech corporation through its subsidiaries o...  \n",
       "3   property insurance holdings inc through its s...  \n",
       "4   holdings llc through its subsidiaries provide...  "
      ]
     },
     "execution_count": 29,
     "metadata": {},
     "output_type": "execute_result"
    }
   ],
   "source": [
    "train_ana.head()"
   ]
  },
  {
   "cell_type": "code",
   "execution_count": 30,
   "metadata": {},
   "outputs": [
    {
     "name": "stderr",
     "output_type": "stream",
     "text": [
      "C:\\Users\\prasa\\anaconda3\\lib\\site-packages\\pandas\\core\\generic.py:5303: SettingWithCopyWarning: \n",
      "A value is trying to be set on a copy of a slice from a DataFrame.\n",
      "Try using .loc[row_indexer,col_indexer] = value instead\n",
      "\n",
      "See the caveats in the documentation: https://pandas.pydata.org/pandas-docs/stable/user_guide/indexing.html#returning-a-view-versus-a-copy\n",
      "  self[name] = value\n"
     ]
    }
   ],
   "source": [
    "train_ana.Tidy_Desc=train_ana.Tidy_Desc.apply(lambda x: x.strip())"
   ]
  },
  {
   "cell_type": "code",
   "execution_count": 31,
   "metadata": {},
   "outputs": [
    {
     "data": {
      "text/html": [
       "<div>\n",
       "<style scoped>\n",
       "    .dataframe tbody tr th:only-of-type {\n",
       "        vertical-align: middle;\n",
       "    }\n",
       "\n",
       "    .dataframe tbody tr th {\n",
       "        vertical-align: top;\n",
       "    }\n",
       "\n",
       "    .dataframe thead th {\n",
       "        text-align: right;\n",
       "    }\n",
       "</style>\n",
       "<table border=\"1\" class=\"dataframe\">\n",
       "  <thead>\n",
       "    <tr style=\"text-align: right;\">\n",
       "      <th></th>\n",
       "      <th>Company Name</th>\n",
       "      <th>Business Description</th>\n",
       "      <th>First_Tag</th>\n",
       "      <th>Tidy_Desc</th>\n",
       "    </tr>\n",
       "  </thead>\n",
       "  <tbody>\n",
       "    <tr>\n",
       "      <th>0</th>\n",
       "      <td>024 Pharma, Inc. (OTCPK:EEIG)</td>\n",
       "      <td>024 Pharma, Inc. provides healthcare products ...</td>\n",
       "      <td>Beauty Care Products (Primary)</td>\n",
       "      <td>pharma inc provides healthcare products worldw...</td>\n",
       "    </tr>\n",
       "    <tr>\n",
       "      <th>1</th>\n",
       "      <td>1-800-FLOWERS.COM, Inc. (NasdaqGS:FLWS)</td>\n",
       "      <td>1-800-Flowers.com, Inc., together with its sub...</td>\n",
       "      <td>Catalog Flowers, Gifts and Novelties (Primary)</td>\n",
       "      <td>flowerscom inc together with its subsidiaries ...</td>\n",
       "    </tr>\n",
       "    <tr>\n",
       "      <th>2</th>\n",
       "      <td>12 Retech Corporation (OTCPK:RETC)</td>\n",
       "      <td>12 Retech Corporation, through its subsidiarie...</td>\n",
       "      <td>Information Technology (Primary)</td>\n",
       "      <td>retech corporation through its subsidiaries op...</td>\n",
       "    </tr>\n",
       "    <tr>\n",
       "      <th>3</th>\n",
       "      <td>1347 Property Insurance Holdings, Inc. (Nasdaq...</td>\n",
       "      <td>1347 Property Insurance Holdings, Inc., throug...</td>\n",
       "      <td>Casualty (Primary)</td>\n",
       "      <td>property insurance holdings inc through its su...</td>\n",
       "    </tr>\n",
       "    <tr>\n",
       "      <th>4</th>\n",
       "      <td>1847 Holdings LLC (OTCPK:EFSH)</td>\n",
       "      <td>1847 Holdings LLC, through its subsidiaries, p...</td>\n",
       "      <td>Commercial and Professional Services (Primary)</td>\n",
       "      <td>holdings llc through its subsidiaries provides...</td>\n",
       "    </tr>\n",
       "  </tbody>\n",
       "</table>\n",
       "</div>"
      ],
      "text/plain": [
       "                                        Company Name  \\\n",
       "0                      024 Pharma, Inc. (OTCPK:EEIG)   \n",
       "1            1-800-FLOWERS.COM, Inc. (NasdaqGS:FLWS)   \n",
       "2                 12 Retech Corporation (OTCPK:RETC)   \n",
       "3  1347 Property Insurance Holdings, Inc. (Nasdaq...   \n",
       "4                     1847 Holdings LLC (OTCPK:EFSH)   \n",
       "\n",
       "                                Business Description  \\\n",
       "0  024 Pharma, Inc. provides healthcare products ...   \n",
       "1  1-800-Flowers.com, Inc., together with its sub...   \n",
       "2  12 Retech Corporation, through its subsidiarie...   \n",
       "3  1347 Property Insurance Holdings, Inc., throug...   \n",
       "4  1847 Holdings LLC, through its subsidiaries, p...   \n",
       "\n",
       "                                        First_Tag  \\\n",
       "0                  Beauty Care Products (Primary)   \n",
       "1  Catalog Flowers, Gifts and Novelties (Primary)   \n",
       "2                Information Technology (Primary)   \n",
       "3                              Casualty (Primary)   \n",
       "4  Commercial and Professional Services (Primary)   \n",
       "\n",
       "                                           Tidy_Desc  \n",
       "0  pharma inc provides healthcare products worldw...  \n",
       "1  flowerscom inc together with its subsidiaries ...  \n",
       "2  retech corporation through its subsidiaries op...  \n",
       "3  property insurance holdings inc through its su...  \n",
       "4  holdings llc through its subsidiaries provides...  "
      ]
     },
     "execution_count": 31,
     "metadata": {},
     "output_type": "execute_result"
    }
   ],
   "source": [
    "train_ana.head()"
   ]
  },
  {
   "cell_type": "code",
   "execution_count": 32,
   "metadata": {},
   "outputs": [
    {
     "data": {
      "text/plain": [
       "Banks (Primary)                     241\n",
       "Healthcare (Primary)                153\n",
       "Biotechnology (Primary)             145\n",
       "Energy (Primary)                    133\n",
       "Consumer Discretionary (Primary)    117\n",
       "Name: First_Tag, dtype: int64"
      ]
     },
     "execution_count": 32,
     "metadata": {},
     "output_type": "execute_result"
    }
   ],
   "source": [
    "#Before going for Count Vectorization as Feature\n",
    "#We would like to check the type of Count of Type of Tags\n",
    "\n",
    "train_ana['First_Tag'].value_counts().head(5)"
   ]
  },
  {
   "cell_type": "markdown",
   "metadata": {},
   "source": [
    "# Remove whitespaces"
   ]
  },
  {
   "cell_type": "code",
   "execution_count": 33,
   "metadata": {},
   "outputs": [
    {
     "name": "stderr",
     "output_type": "stream",
     "text": [
      "C:\\Users\\prasa\\anaconda3\\lib\\site-packages\\pandas\\core\\generic.py:5303: SettingWithCopyWarning: \n",
      "A value is trying to be set on a copy of a slice from a DataFrame.\n",
      "Try using .loc[row_indexer,col_indexer] = value instead\n",
      "\n",
      "See the caveats in the documentation: https://pandas.pydata.org/pandas-docs/stable/user_guide/indexing.html#returning-a-view-versus-a-copy\n",
      "  self[name] = value\n"
     ]
    }
   ],
   "source": [
    "train_ana.Tidy_Desc=train_ana.Tidy_Desc.apply(lambda x: x.strip())"
   ]
  },
  {
   "cell_type": "code",
   "execution_count": 34,
   "metadata": {},
   "outputs": [
    {
     "data": {
      "text/html": [
       "<div>\n",
       "<style scoped>\n",
       "    .dataframe tbody tr th:only-of-type {\n",
       "        vertical-align: middle;\n",
       "    }\n",
       "\n",
       "    .dataframe tbody tr th {\n",
       "        vertical-align: top;\n",
       "    }\n",
       "\n",
       "    .dataframe thead th {\n",
       "        text-align: right;\n",
       "    }\n",
       "</style>\n",
       "<table border=\"1\" class=\"dataframe\">\n",
       "  <thead>\n",
       "    <tr style=\"text-align: right;\">\n",
       "      <th></th>\n",
       "      <th>Company Name</th>\n",
       "      <th>Business Description</th>\n",
       "      <th>First_Tag</th>\n",
       "      <th>Tidy_Desc</th>\n",
       "    </tr>\n",
       "  </thead>\n",
       "  <tbody>\n",
       "    <tr>\n",
       "      <th>0</th>\n",
       "      <td>024 Pharma, Inc. (OTCPK:EEIG)</td>\n",
       "      <td>024 Pharma, Inc. provides healthcare products ...</td>\n",
       "      <td>Beauty Care Products (Primary)</td>\n",
       "      <td>pharma inc provides healthcare products worldw...</td>\n",
       "    </tr>\n",
       "    <tr>\n",
       "      <th>1</th>\n",
       "      <td>1-800-FLOWERS.COM, Inc. (NasdaqGS:FLWS)</td>\n",
       "      <td>1-800-Flowers.com, Inc., together with its sub...</td>\n",
       "      <td>Catalog Flowers, Gifts and Novelties (Primary)</td>\n",
       "      <td>flowerscom inc together with its subsidiaries ...</td>\n",
       "    </tr>\n",
       "    <tr>\n",
       "      <th>2</th>\n",
       "      <td>12 Retech Corporation (OTCPK:RETC)</td>\n",
       "      <td>12 Retech Corporation, through its subsidiarie...</td>\n",
       "      <td>Information Technology (Primary)</td>\n",
       "      <td>retech corporation through its subsidiaries op...</td>\n",
       "    </tr>\n",
       "    <tr>\n",
       "      <th>3</th>\n",
       "      <td>1347 Property Insurance Holdings, Inc. (Nasdaq...</td>\n",
       "      <td>1347 Property Insurance Holdings, Inc., throug...</td>\n",
       "      <td>Casualty (Primary)</td>\n",
       "      <td>property insurance holdings inc through its su...</td>\n",
       "    </tr>\n",
       "    <tr>\n",
       "      <th>4</th>\n",
       "      <td>1847 Holdings LLC (OTCPK:EFSH)</td>\n",
       "      <td>1847 Holdings LLC, through its subsidiaries, p...</td>\n",
       "      <td>Commercial and Professional Services (Primary)</td>\n",
       "      <td>holdings llc through its subsidiaries provides...</td>\n",
       "    </tr>\n",
       "  </tbody>\n",
       "</table>\n",
       "</div>"
      ],
      "text/plain": [
       "                                        Company Name  \\\n",
       "0                      024 Pharma, Inc. (OTCPK:EEIG)   \n",
       "1            1-800-FLOWERS.COM, Inc. (NasdaqGS:FLWS)   \n",
       "2                 12 Retech Corporation (OTCPK:RETC)   \n",
       "3  1347 Property Insurance Holdings, Inc. (Nasdaq...   \n",
       "4                     1847 Holdings LLC (OTCPK:EFSH)   \n",
       "\n",
       "                                Business Description  \\\n",
       "0  024 Pharma, Inc. provides healthcare products ...   \n",
       "1  1-800-Flowers.com, Inc., together with its sub...   \n",
       "2  12 Retech Corporation, through its subsidiarie...   \n",
       "3  1347 Property Insurance Holdings, Inc., throug...   \n",
       "4  1847 Holdings LLC, through its subsidiaries, p...   \n",
       "\n",
       "                                        First_Tag  \\\n",
       "0                  Beauty Care Products (Primary)   \n",
       "1  Catalog Flowers, Gifts and Novelties (Primary)   \n",
       "2                Information Technology (Primary)   \n",
       "3                              Casualty (Primary)   \n",
       "4  Commercial and Professional Services (Primary)   \n",
       "\n",
       "                                           Tidy_Desc  \n",
       "0  pharma inc provides healthcare products worldw...  \n",
       "1  flowerscom inc together with its subsidiaries ...  \n",
       "2  retech corporation through its subsidiaries op...  \n",
       "3  property insurance holdings inc through its su...  \n",
       "4  holdings llc through its subsidiaries provides...  "
      ]
     },
     "execution_count": 34,
     "metadata": {},
     "output_type": "execute_result"
    }
   ],
   "source": [
    "train_ana.head()"
   ]
  },
  {
   "cell_type": "markdown",
   "metadata": {},
   "source": [
    "# Tokenization\n",
    "#Tokenization is the process of splitting the given text into smaller pieces called tokens."
   ]
  },
  {
   "cell_type": "code",
   "execution_count": 35,
   "metadata": {},
   "outputs": [],
   "source": [
    "\n",
    "from nltk.tokenize import word_tokenize"
   ]
  },
  {
   "cell_type": "code",
   "execution_count": 36,
   "metadata": {},
   "outputs": [],
   "source": [
    "# function to remove stopwords\n",
    "def remove_stopwords(sen):\n",
    "    sen_new = \" \".join([i for i in sen if i not in stop_words])\n",
    "    return sen_new"
   ]
  },
  {
   "cell_type": "code",
   "execution_count": 37,
   "metadata": {},
   "outputs": [],
   "source": [
    "stop_words = stopwords.words('english')\n",
    "clean_sentences  = [remove_stopwords(r.split()) for r in train_ana['Tidy_Desc']]"
   ]
  },
  {
   "cell_type": "code",
   "execution_count": 38,
   "metadata": {},
   "outputs": [
    {
     "name": "stderr",
     "output_type": "stream",
     "text": [
      "[nltk_data] Downloading package stopwords to\n",
      "[nltk_data]     C:\\Users\\prasa\\AppData\\Roaming\\nltk_data...\n",
      "[nltk_data]   Package stopwords is already up-to-date!\n"
     ]
    },
    {
     "data": {
      "text/plain": [
       "True"
      ]
     },
     "execution_count": 38,
     "metadata": {},
     "output_type": "execute_result"
    }
   ],
   "source": [
    "nltk.download('stopwords')"
   ]
  },
  {
   "cell_type": "code",
   "execution_count": 39,
   "metadata": {},
   "outputs": [
    {
     "name": "stderr",
     "output_type": "stream",
     "text": [
      "C:\\Users\\prasa\\anaconda3\\lib\\site-packages\\ipykernel_launcher.py:1: SettingWithCopyWarning: \n",
      "A value is trying to be set on a copy of a slice from a DataFrame.\n",
      "Try using .loc[row_indexer,col_indexer] = value instead\n",
      "\n",
      "See the caveats in the documentation: https://pandas.pydata.org/pandas-docs/stable/user_guide/indexing.html#returning-a-view-versus-a-copy\n",
      "  \"\"\"Entry point for launching an IPython kernel.\n"
     ]
    }
   ],
   "source": [
    "train_ana['Tidy_Desc'] = clean_sentences"
   ]
  },
  {
   "cell_type": "code",
   "execution_count": 40,
   "metadata": {},
   "outputs": [
    {
     "data": {
      "text/html": [
       "<div>\n",
       "<style scoped>\n",
       "    .dataframe tbody tr th:only-of-type {\n",
       "        vertical-align: middle;\n",
       "    }\n",
       "\n",
       "    .dataframe tbody tr th {\n",
       "        vertical-align: top;\n",
       "    }\n",
       "\n",
       "    .dataframe thead th {\n",
       "        text-align: right;\n",
       "    }\n",
       "</style>\n",
       "<table border=\"1\" class=\"dataframe\">\n",
       "  <thead>\n",
       "    <tr style=\"text-align: right;\">\n",
       "      <th></th>\n",
       "      <th>Company Name</th>\n",
       "      <th>Business Description</th>\n",
       "      <th>First_Tag</th>\n",
       "      <th>Tidy_Desc</th>\n",
       "    </tr>\n",
       "  </thead>\n",
       "  <tbody>\n",
       "    <tr>\n",
       "      <th>0</th>\n",
       "      <td>024 Pharma, Inc. (OTCPK:EEIG)</td>\n",
       "      <td>024 Pharma, Inc. provides healthcare products ...</td>\n",
       "      <td>Beauty Care Products (Primary)</td>\n",
       "      <td>pharma inc provides healthcare products worldw...</td>\n",
       "    </tr>\n",
       "    <tr>\n",
       "      <th>1</th>\n",
       "      <td>1-800-FLOWERS.COM, Inc. (NasdaqGS:FLWS)</td>\n",
       "      <td>1-800-Flowers.com, Inc., together with its sub...</td>\n",
       "      <td>Catalog Flowers, Gifts and Novelties (Primary)</td>\n",
       "      <td>flowerscom inc together subsidiaries provides ...</td>\n",
       "    </tr>\n",
       "    <tr>\n",
       "      <th>2</th>\n",
       "      <td>12 Retech Corporation (OTCPK:RETC)</td>\n",
       "      <td>12 Retech Corporation, through its subsidiarie...</td>\n",
       "      <td>Information Technology (Primary)</td>\n",
       "      <td>retech corporation subsidiaries operates integ...</td>\n",
       "    </tr>\n",
       "    <tr>\n",
       "      <th>3</th>\n",
       "      <td>1347 Property Insurance Holdings, Inc. (Nasdaq...</td>\n",
       "      <td>1347 Property Insurance Holdings, Inc., throug...</td>\n",
       "      <td>Casualty (Primary)</td>\n",
       "      <td>property insurance holdings inc subsidiaries p...</td>\n",
       "    </tr>\n",
       "    <tr>\n",
       "      <th>4</th>\n",
       "      <td>1847 Holdings LLC (OTCPK:EFSH)</td>\n",
       "      <td>1847 Holdings LLC, through its subsidiaries, p...</td>\n",
       "      <td>Commercial and Professional Services (Primary)</td>\n",
       "      <td>holdings llc subsidiaries provides range produ...</td>\n",
       "    </tr>\n",
       "  </tbody>\n",
       "</table>\n",
       "</div>"
      ],
      "text/plain": [
       "                                        Company Name  \\\n",
       "0                      024 Pharma, Inc. (OTCPK:EEIG)   \n",
       "1            1-800-FLOWERS.COM, Inc. (NasdaqGS:FLWS)   \n",
       "2                 12 Retech Corporation (OTCPK:RETC)   \n",
       "3  1347 Property Insurance Holdings, Inc. (Nasdaq...   \n",
       "4                     1847 Holdings LLC (OTCPK:EFSH)   \n",
       "\n",
       "                                Business Description  \\\n",
       "0  024 Pharma, Inc. provides healthcare products ...   \n",
       "1  1-800-Flowers.com, Inc., together with its sub...   \n",
       "2  12 Retech Corporation, through its subsidiarie...   \n",
       "3  1347 Property Insurance Holdings, Inc., throug...   \n",
       "4  1847 Holdings LLC, through its subsidiaries, p...   \n",
       "\n",
       "                                        First_Tag  \\\n",
       "0                  Beauty Care Products (Primary)   \n",
       "1  Catalog Flowers, Gifts and Novelties (Primary)   \n",
       "2                Information Technology (Primary)   \n",
       "3                              Casualty (Primary)   \n",
       "4  Commercial and Professional Services (Primary)   \n",
       "\n",
       "                                           Tidy_Desc  \n",
       "0  pharma inc provides healthcare products worldw...  \n",
       "1  flowerscom inc together subsidiaries provides ...  \n",
       "2  retech corporation subsidiaries operates integ...  \n",
       "3  property insurance holdings inc subsidiaries p...  \n",
       "4  holdings llc subsidiaries provides range produ...  "
      ]
     },
     "execution_count": 40,
     "metadata": {},
     "output_type": "execute_result"
    }
   ],
   "source": [
    "train_ana.head()"
   ]
  },
  {
   "cell_type": "code",
   "execution_count": 41,
   "metadata": {},
   "outputs": [],
   "source": [
    "#Tokenization\n",
    "tokens = train_ana['Tidy_Desc'].apply(lambda x: x.split())\n",
    "#Now that we have the removed StopWords and tokenized the Business Descriptions\n",
    "#We will now subject the tokenized version to removing stop words, sparse terms, and particular words\n",
    "#In some cases, it’s necessary to remove sparse terms or particular words from texts. \n",
    "#This task can be done using stop words removal techniques considering that any group of words can be chosen as the stop words."
   ]
  },
  {
   "cell_type": "code",
   "execution_count": 42,
   "metadata": {},
   "outputs": [],
   "source": [
    "#Stemming\n",
    "from nltk.stem import PorterStemmer\n",
    "stemmer= PorterStemmer()\n",
    "Stemmed_tokens = tokens.apply(lambda x: [stemmer.stem(i) for i in x])"
   ]
  },
  {
   "cell_type": "code",
   "execution_count": 43,
   "metadata": {},
   "outputs": [
    {
     "name": "stderr",
     "output_type": "stream",
     "text": [
      "C:\\Users\\prasa\\anaconda3\\lib\\site-packages\\ipykernel_launcher.py:5: SettingWithCopyWarning: \n",
      "A value is trying to be set on a copy of a slice from a DataFrame.\n",
      "Try using .loc[row_indexer,col_indexer] = value instead\n",
      "\n",
      "See the caveats in the documentation: https://pandas.pydata.org/pandas-docs/stable/user_guide/indexing.html#returning-a-view-versus-a-copy\n",
      "  \"\"\"\n"
     ]
    }
   ],
   "source": [
    "#Now let’s stitch these tokens back together.\n",
    "for i in range(len(Stemmed_tokens)):\n",
    "    Stemmed_tokens[i] = ' '.join(Stemmed_tokens[i])\n",
    "\n",
    "train_ana['Tidy_Desc_Stemmed'] = Stemmed_tokens"
   ]
  },
  {
   "cell_type": "code",
   "execution_count": 44,
   "metadata": {},
   "outputs": [
    {
     "data": {
      "text/html": [
       "<div>\n",
       "<style scoped>\n",
       "    .dataframe tbody tr th:only-of-type {\n",
       "        vertical-align: middle;\n",
       "    }\n",
       "\n",
       "    .dataframe tbody tr th {\n",
       "        vertical-align: top;\n",
       "    }\n",
       "\n",
       "    .dataframe thead th {\n",
       "        text-align: right;\n",
       "    }\n",
       "</style>\n",
       "<table border=\"1\" class=\"dataframe\">\n",
       "  <thead>\n",
       "    <tr style=\"text-align: right;\">\n",
       "      <th></th>\n",
       "      <th>Company Name</th>\n",
       "      <th>Business Description</th>\n",
       "      <th>First_Tag</th>\n",
       "      <th>Tidy_Desc</th>\n",
       "      <th>Tidy_Desc_Stemmed</th>\n",
       "    </tr>\n",
       "  </thead>\n",
       "  <tbody>\n",
       "    <tr>\n",
       "      <th>0</th>\n",
       "      <td>024 Pharma, Inc. (OTCPK:EEIG)</td>\n",
       "      <td>024 Pharma, Inc. provides healthcare products ...</td>\n",
       "      <td>Beauty Care Products (Primary)</td>\n",
       "      <td>pharma inc provides healthcare products worldw...</td>\n",
       "      <td>pharma inc provid healthcar product worldwid p...</td>\n",
       "    </tr>\n",
       "    <tr>\n",
       "      <th>1</th>\n",
       "      <td>1-800-FLOWERS.COM, Inc. (NasdaqGS:FLWS)</td>\n",
       "      <td>1-800-Flowers.com, Inc., together with its sub...</td>\n",
       "      <td>Catalog Flowers, Gifts and Novelties (Primary)</td>\n",
       "      <td>flowerscom inc together subsidiaries provides ...</td>\n",
       "      <td>flowerscom inc togeth subsidiari provid gourme...</td>\n",
       "    </tr>\n",
       "    <tr>\n",
       "      <th>2</th>\n",
       "      <td>12 Retech Corporation (OTCPK:RETC)</td>\n",
       "      <td>12 Retech Corporation, through its subsidiarie...</td>\n",
       "      <td>Information Technology (Primary)</td>\n",
       "      <td>retech corporation subsidiaries operates integ...</td>\n",
       "      <td>retech corpor subsidiari oper integr retail pl...</td>\n",
       "    </tr>\n",
       "    <tr>\n",
       "      <th>3</th>\n",
       "      <td>1347 Property Insurance Holdings, Inc. (Nasdaq...</td>\n",
       "      <td>1347 Property Insurance Holdings, Inc., throug...</td>\n",
       "      <td>Casualty (Primary)</td>\n",
       "      <td>property insurance holdings inc subsidiaries p...</td>\n",
       "      <td>properti insur hold inc subsidiari provid prop...</td>\n",
       "    </tr>\n",
       "    <tr>\n",
       "      <th>4</th>\n",
       "      <td>1847 Holdings LLC (OTCPK:EFSH)</td>\n",
       "      <td>1847 Holdings LLC, through its subsidiaries, p...</td>\n",
       "      <td>Commercial and Professional Services (Primary)</td>\n",
       "      <td>holdings llc subsidiaries provides range produ...</td>\n",
       "      <td>hold llc subsidiari provid rang product servic...</td>\n",
       "    </tr>\n",
       "  </tbody>\n",
       "</table>\n",
       "</div>"
      ],
      "text/plain": [
       "                                        Company Name  \\\n",
       "0                      024 Pharma, Inc. (OTCPK:EEIG)   \n",
       "1            1-800-FLOWERS.COM, Inc. (NasdaqGS:FLWS)   \n",
       "2                 12 Retech Corporation (OTCPK:RETC)   \n",
       "3  1347 Property Insurance Holdings, Inc. (Nasdaq...   \n",
       "4                     1847 Holdings LLC (OTCPK:EFSH)   \n",
       "\n",
       "                                Business Description  \\\n",
       "0  024 Pharma, Inc. provides healthcare products ...   \n",
       "1  1-800-Flowers.com, Inc., together with its sub...   \n",
       "2  12 Retech Corporation, through its subsidiarie...   \n",
       "3  1347 Property Insurance Holdings, Inc., throug...   \n",
       "4  1847 Holdings LLC, through its subsidiaries, p...   \n",
       "\n",
       "                                        First_Tag  \\\n",
       "0                  Beauty Care Products (Primary)   \n",
       "1  Catalog Flowers, Gifts and Novelties (Primary)   \n",
       "2                Information Technology (Primary)   \n",
       "3                              Casualty (Primary)   \n",
       "4  Commercial and Professional Services (Primary)   \n",
       "\n",
       "                                           Tidy_Desc  \\\n",
       "0  pharma inc provides healthcare products worldw...   \n",
       "1  flowerscom inc together subsidiaries provides ...   \n",
       "2  retech corporation subsidiaries operates integ...   \n",
       "3  property insurance holdings inc subsidiaries p...   \n",
       "4  holdings llc subsidiaries provides range produ...   \n",
       "\n",
       "                                   Tidy_Desc_Stemmed  \n",
       "0  pharma inc provid healthcar product worldwid p...  \n",
       "1  flowerscom inc togeth subsidiari provid gourme...  \n",
       "2  retech corpor subsidiari oper integr retail pl...  \n",
       "3  properti insur hold inc subsidiari provid prop...  \n",
       "4  hold llc subsidiari provid rang product servic...  "
      ]
     },
     "execution_count": 44,
     "metadata": {},
     "output_type": "execute_result"
    }
   ],
   "source": [
    "train_ana.head()"
   ]
  },
  {
   "cell_type": "code",
   "execution_count": 45,
   "metadata": {},
   "outputs": [
    {
     "name": "stderr",
     "output_type": "stream",
     "text": [
      "[nltk_data] Downloading package wordnet to\n",
      "[nltk_data]     C:\\Users\\prasa\\AppData\\Roaming\\nltk_data...\n",
      "[nltk_data]   Package wordnet is already up-to-date!\n"
     ]
    }
   ],
   "source": [
    "#Lemmatization\n",
    "nltk.download('wordnet')\n",
    "from nltk.stem import WordNetLemmatizer\n",
    "lemmatizer=WordNetLemmatizer()\n",
    "Lemmatized_tokens = tokens.apply(lambda x: [lemmatizer.lemmatize(i) for i in x]) # Lemmatizing"
   ]
  },
  {
   "cell_type": "code",
   "execution_count": 46,
   "metadata": {},
   "outputs": [
    {
     "name": "stderr",
     "output_type": "stream",
     "text": [
      "C:\\Users\\prasa\\anaconda3\\lib\\site-packages\\ipykernel_launcher.py:4: SettingWithCopyWarning: \n",
      "A value is trying to be set on a copy of a slice from a DataFrame.\n",
      "Try using .loc[row_indexer,col_indexer] = value instead\n",
      "\n",
      "See the caveats in the documentation: https://pandas.pydata.org/pandas-docs/stable/user_guide/indexing.html#returning-a-view-versus-a-copy\n",
      "  after removing the cwd from sys.path.\n"
     ]
    }
   ],
   "source": [
    "for i in range(len(Lemmatized_tokens)):\n",
    "    Lemmatized_tokens[i] = ' '.join(Lemmatized_tokens[i])\n",
    "\n",
    "train_ana['Tidy_Desc_Lemma'] = Lemmatized_tokens"
   ]
  },
  {
   "cell_type": "code",
   "execution_count": 47,
   "metadata": {},
   "outputs": [
    {
     "data": {
      "text/html": [
       "<div>\n",
       "<style scoped>\n",
       "    .dataframe tbody tr th:only-of-type {\n",
       "        vertical-align: middle;\n",
       "    }\n",
       "\n",
       "    .dataframe tbody tr th {\n",
       "        vertical-align: top;\n",
       "    }\n",
       "\n",
       "    .dataframe thead th {\n",
       "        text-align: right;\n",
       "    }\n",
       "</style>\n",
       "<table border=\"1\" class=\"dataframe\">\n",
       "  <thead>\n",
       "    <tr style=\"text-align: right;\">\n",
       "      <th></th>\n",
       "      <th>Company Name</th>\n",
       "      <th>Business Description</th>\n",
       "      <th>First_Tag</th>\n",
       "      <th>Tidy_Desc</th>\n",
       "      <th>Tidy_Desc_Stemmed</th>\n",
       "      <th>Tidy_Desc_Lemma</th>\n",
       "    </tr>\n",
       "  </thead>\n",
       "  <tbody>\n",
       "    <tr>\n",
       "      <th>0</th>\n",
       "      <td>024 Pharma, Inc. (OTCPK:EEIG)</td>\n",
       "      <td>024 Pharma, Inc. provides healthcare products ...</td>\n",
       "      <td>Beauty Care Products (Primary)</td>\n",
       "      <td>pharma inc provides healthcare products worldw...</td>\n",
       "      <td>pharma inc provid healthcar product worldwid p...</td>\n",
       "      <td>pharma inc provides healthcare product worldwi...</td>\n",
       "    </tr>\n",
       "    <tr>\n",
       "      <th>1</th>\n",
       "      <td>1-800-FLOWERS.COM, Inc. (NasdaqGS:FLWS)</td>\n",
       "      <td>1-800-Flowers.com, Inc., together with its sub...</td>\n",
       "      <td>Catalog Flowers, Gifts and Novelties (Primary)</td>\n",
       "      <td>flowerscom inc together subsidiaries provides ...</td>\n",
       "      <td>flowerscom inc togeth subsidiari provid gourme...</td>\n",
       "      <td>flowerscom inc together subsidiary provides go...</td>\n",
       "    </tr>\n",
       "    <tr>\n",
       "      <th>2</th>\n",
       "      <td>12 Retech Corporation (OTCPK:RETC)</td>\n",
       "      <td>12 Retech Corporation, through its subsidiarie...</td>\n",
       "      <td>Information Technology (Primary)</td>\n",
       "      <td>retech corporation subsidiaries operates integ...</td>\n",
       "      <td>retech corpor subsidiari oper integr retail pl...</td>\n",
       "      <td>retech corporation subsidiary operates integra...</td>\n",
       "    </tr>\n",
       "    <tr>\n",
       "      <th>3</th>\n",
       "      <td>1347 Property Insurance Holdings, Inc. (Nasdaq...</td>\n",
       "      <td>1347 Property Insurance Holdings, Inc., throug...</td>\n",
       "      <td>Casualty (Primary)</td>\n",
       "      <td>property insurance holdings inc subsidiaries p...</td>\n",
       "      <td>properti insur hold inc subsidiari provid prop...</td>\n",
       "      <td>property insurance holding inc subsidiary prov...</td>\n",
       "    </tr>\n",
       "    <tr>\n",
       "      <th>4</th>\n",
       "      <td>1847 Holdings LLC (OTCPK:EFSH)</td>\n",
       "      <td>1847 Holdings LLC, through its subsidiaries, p...</td>\n",
       "      <td>Commercial and Professional Services (Primary)</td>\n",
       "      <td>holdings llc subsidiaries provides range produ...</td>\n",
       "      <td>hold llc subsidiari provid rang product servic...</td>\n",
       "      <td>holding llc subsidiary provides range product ...</td>\n",
       "    </tr>\n",
       "  </tbody>\n",
       "</table>\n",
       "</div>"
      ],
      "text/plain": [
       "                                        Company Name  \\\n",
       "0                      024 Pharma, Inc. (OTCPK:EEIG)   \n",
       "1            1-800-FLOWERS.COM, Inc. (NasdaqGS:FLWS)   \n",
       "2                 12 Retech Corporation (OTCPK:RETC)   \n",
       "3  1347 Property Insurance Holdings, Inc. (Nasdaq...   \n",
       "4                     1847 Holdings LLC (OTCPK:EFSH)   \n",
       "\n",
       "                                Business Description  \\\n",
       "0  024 Pharma, Inc. provides healthcare products ...   \n",
       "1  1-800-Flowers.com, Inc., together with its sub...   \n",
       "2  12 Retech Corporation, through its subsidiarie...   \n",
       "3  1347 Property Insurance Holdings, Inc., throug...   \n",
       "4  1847 Holdings LLC, through its subsidiaries, p...   \n",
       "\n",
       "                                        First_Tag  \\\n",
       "0                  Beauty Care Products (Primary)   \n",
       "1  Catalog Flowers, Gifts and Novelties (Primary)   \n",
       "2                Information Technology (Primary)   \n",
       "3                              Casualty (Primary)   \n",
       "4  Commercial and Professional Services (Primary)   \n",
       "\n",
       "                                           Tidy_Desc  \\\n",
       "0  pharma inc provides healthcare products worldw...   \n",
       "1  flowerscom inc together subsidiaries provides ...   \n",
       "2  retech corporation subsidiaries operates integ...   \n",
       "3  property insurance holdings inc subsidiaries p...   \n",
       "4  holdings llc subsidiaries provides range produ...   \n",
       "\n",
       "                                   Tidy_Desc_Stemmed  \\\n",
       "0  pharma inc provid healthcar product worldwid p...   \n",
       "1  flowerscom inc togeth subsidiari provid gourme...   \n",
       "2  retech corpor subsidiari oper integr retail pl...   \n",
       "3  properti insur hold inc subsidiari provid prop...   \n",
       "4  hold llc subsidiari provid rang product servic...   \n",
       "\n",
       "                                     Tidy_Desc_Lemma  \n",
       "0  pharma inc provides healthcare product worldwi...  \n",
       "1  flowerscom inc together subsidiary provides go...  \n",
       "2  retech corporation subsidiary operates integra...  \n",
       "3  property insurance holding inc subsidiary prov...  \n",
       "4  holding llc subsidiary provides range product ...  "
      ]
     },
     "execution_count": 47,
     "metadata": {},
     "output_type": "execute_result"
    }
   ],
   "source": [
    "train_ana.head()"
   ]
  },
  {
   "cell_type": "code",
   "execution_count": 48,
   "metadata": {},
   "outputs": [
    {
     "data": {
      "text/plain": [
       "Banks (Primary)                     241\n",
       "Healthcare (Primary)                153\n",
       "Biotechnology (Primary)             145\n",
       "Energy (Primary)                    133\n",
       "Consumer Discretionary (Primary)    117\n",
       "Name: First_Tag, dtype: int64"
      ]
     },
     "execution_count": 48,
     "metadata": {},
     "output_type": "execute_result"
    }
   ],
   "source": [
    "#Before going for Count Vectorization as Feature\n",
    "#We would like to check the type of Count of Type of Tags\n",
    "\n",
    "train_ana['First_Tag'].value_counts().head(5)"
   ]
  },
  {
   "cell_type": "code",
   "execution_count": 49,
   "metadata": {},
   "outputs": [],
   "source": [
    "#Removing the rows with missing Description\n",
    "train_ana = train_ana[train_ana['First_Tag'] != '-']"
   ]
  },
  {
   "cell_type": "markdown",
   "metadata": {},
   "source": [
    "# Count Vectors as features"
   ]
  },
  {
   "cell_type": "code",
   "execution_count": 50,
   "metadata": {},
   "outputs": [],
   "source": [
    "#set(train_ana['First_Tag'])"
   ]
  },
  {
   "cell_type": "code",
   "execution_count": 51,
   "metadata": {},
   "outputs": [],
   "source": [
    "#Selecting the first 10 labels\n",
    "T10Tag = train_ana['First_Tag'].value_counts().index.tolist()"
   ]
  },
  {
   "cell_type": "code",
   "execution_count": 52,
   "metadata": {},
   "outputs": [],
   "source": [
    "T10Tag = T10Tag[:10]"
   ]
  },
  {
   "cell_type": "code",
   "execution_count": 53,
   "metadata": {},
   "outputs": [
    {
     "data": {
      "text/plain": [
       "['Banks (Primary)',\n",
       " 'Healthcare (Primary)',\n",
       " 'Biotechnology (Primary)',\n",
       " 'Energy (Primary)',\n",
       " 'Consumer Discretionary (Primary)',\n",
       " 'Information Technology (Primary)',\n",
       " 'Capital Goods (Primary)',\n",
       " 'Commercial and Professional Services (Primary)',\n",
       " 'Application Software (Primary)',\n",
       " 'Communications Equipment (Primary)']"
      ]
     },
     "execution_count": 53,
     "metadata": {},
     "output_type": "execute_result"
    }
   ],
   "source": [
    "T10Tag"
   ]
  },
  {
   "cell_type": "code",
   "execution_count": 54,
   "metadata": {},
   "outputs": [],
   "source": [
    "train_10 = train_ana[train_ana['First_Tag'].isin(T10Tag)]"
   ]
  },
  {
   "cell_type": "code",
   "execution_count": 55,
   "metadata": {},
   "outputs": [
    {
     "data": {
      "text/plain": [
       "(1155, 6)"
      ]
     },
     "execution_count": 55,
     "metadata": {},
     "output_type": "execute_result"
    }
   ],
   "source": [
    "train_10.shape"
   ]
  },
  {
   "cell_type": "code",
   "execution_count": 56,
   "metadata": {},
   "outputs": [
    {
     "data": {
      "text/plain": [
       "{'Application Software (Primary)',\n",
       " 'Banks (Primary)',\n",
       " 'Biotechnology (Primary)',\n",
       " 'Capital Goods (Primary)',\n",
       " 'Commercial and Professional Services (Primary)',\n",
       " 'Communications Equipment (Primary)',\n",
       " 'Consumer Discretionary (Primary)',\n",
       " 'Energy (Primary)',\n",
       " 'Healthcare (Primary)',\n",
       " 'Information Technology (Primary)'}"
      ]
     },
     "execution_count": 56,
     "metadata": {},
     "output_type": "execute_result"
    }
   ],
   "source": [
    "set(train_10['First_Tag'])"
   ]
  },
  {
   "cell_type": "code",
   "execution_count": 57,
   "metadata": {},
   "outputs": [
    {
     "data": {
      "text/plain": [
       "Counter({'Information Technology (Primary)': 106,\n",
       "         'Commercial and Professional Services (Primary)': 85,\n",
       "         'Banks (Primary)': 241,\n",
       "         'Application Software (Primary)': 50,\n",
       "         'Energy (Primary)': 133,\n",
       "         'Consumer Discretionary (Primary)': 117,\n",
       "         'Healthcare (Primary)': 153,\n",
       "         'Capital Goods (Primary)': 88,\n",
       "         'Communications Equipment (Primary)': 37,\n",
       "         'Biotechnology (Primary)': 145})"
      ]
     },
     "execution_count": 57,
     "metadata": {},
     "output_type": "execute_result"
    }
   ],
   "source": [
    "from collections import Counter\n",
    "Counter(train_10['First_Tag'])"
   ]
  },
  {
   "cell_type": "code",
   "execution_count": 58,
   "metadata": {},
   "outputs": [
    {
     "data": {
      "text/plain": [
       "['Company Name',\n",
       " 'Business Description',\n",
       " 'First_Tag',\n",
       " 'Tidy_Desc',\n",
       " 'Tidy_Desc_Stemmed',\n",
       " 'Tidy_Desc_Lemma']"
      ]
     },
     "execution_count": 58,
     "metadata": {},
     "output_type": "execute_result"
    }
   ],
   "source": [
    "train_10.columns.tolist()"
   ]
  },
  {
   "cell_type": "code",
   "execution_count": 59,
   "metadata": {},
   "outputs": [],
   "source": [
    "train_10_ana = train_10[['Tidy_Desc_Lemma','First_Tag']]"
   ]
  },
  {
   "cell_type": "code",
   "execution_count": 60,
   "metadata": {},
   "outputs": [],
   "source": [
    "#pre-processing\n",
    "import re \n",
    "def clean_str(string):\n",
    "    \"\"\"\n",
    "    Tokenization/string cleaning for dataset\n",
    "    Every dataset is lower cased except\n",
    "    \"\"\"\n",
    "    string = re.sub(r\"\\n\", \"\", string)    \n",
    "    string = re.sub(r\"\\r\", \"\", string) \n",
    "    string = re.sub(r\"[0-9]\", \"digit\", string)\n",
    "    string = re.sub(r\"\\'\", \"\", string)    \n",
    "    string = re.sub(r\"\\\"\", \"\", string)    \n",
    "    return string.strip().lower()"
   ]
  },
  {
   "cell_type": "code",
   "execution_count": 61,
   "metadata": {},
   "outputs": [],
   "source": [
    "#train test split\n",
    "from sklearn.model_selection import train_test_split\n",
    "X = []\n",
    "for i in range(train_10_ana.shape[0]):\n",
    "    X.append(clean_str(train_10_ana.iloc[i][0]))\n",
    "y = np.array(train_10_ana[\"First_Tag\"])\n",
    "X_train, X_test, y_train, y_test = train_test_split(X, y, test_size=0.3, random_state=5)"
   ]
  },
  {
   "cell_type": "code",
   "execution_count": 62,
   "metadata": {},
   "outputs": [],
   "source": [
    "#feature engineering and model selection\n",
    "from sklearn.svm import LinearSVC\n",
    "from sklearn.linear_model import LogisticRegression\n",
    "from sklearn.ensemble import RandomForestClassifier"
   ]
  },
  {
   "cell_type": "code",
   "execution_count": 63,
   "metadata": {},
   "outputs": [],
   "source": [
    "#pipeline of feature engineering and model\n",
    "model = Pipeline([('vectorizer', CountVectorizer()),\n",
    "    ('tfidf', TfidfTransformer()),\n",
    "    ('clf', OneVsRestClassifier(LinearSVC(class_weight=\"balanced\")))])"
   ]
  },
  {
   "cell_type": "code",
   "execution_count": 64,
   "metadata": {},
   "outputs": [],
   "source": [
    "#paramater selection\n",
    "from sklearn.model_selection import GridSearchCV\n",
    "parameters = {'vectorizer__ngram_range': [(1, 1), (1, 2),(2,2)],\n",
    "               'tfidf__use_idf': (True, False)}"
   ]
  },
  {
   "cell_type": "code",
   "execution_count": 65,
   "metadata": {},
   "outputs": [
    {
     "name": "stdout",
     "output_type": "stream",
     "text": [
      "0.793939393939394\n",
      "{'tfidf__use_idf': True, 'vectorizer__ngram_range': (1, 1)}\n"
     ]
    }
   ],
   "source": [
    "gs_clf_svm = GridSearchCV(model, parameters, n_jobs=-1)\n",
    "gs_clf_svm = gs_clf_svm.fit(X, y)\n",
    "print(gs_clf_svm.best_score_)\n",
    "print(gs_clf_svm.best_params_)"
   ]
  },
  {
   "cell_type": "code",
   "execution_count": 66,
   "metadata": {},
   "outputs": [],
   "source": [
    "#preparing the final pipeline using the selected parameters\n",
    "model = Pipeline([('vectorizer', CountVectorizer(ngram_range=(1,2))),\n",
    "    ('tfidf', TfidfTransformer(use_idf=True)),\n",
    "    ('clf', OneVsRestClassifier(LinearSVC(class_weight=\"balanced\")))])"
   ]
  },
  {
   "cell_type": "code",
   "execution_count": 67,
   "metadata": {},
   "outputs": [
    {
     "data": {
      "text/plain": [
       "Pipeline(memory=None,\n",
       "         steps=[('vectorizer',\n",
       "                 CountVectorizer(analyzer='word', binary=False,\n",
       "                                 decode_error='strict',\n",
       "                                 dtype=<class 'numpy.int64'>, encoding='utf-8',\n",
       "                                 input='content', lowercase=True, max_df=1.0,\n",
       "                                 max_features=None, min_df=1,\n",
       "                                 ngram_range=(1, 2), preprocessor=None,\n",
       "                                 stop_words=None, strip_accents=None,\n",
       "                                 token_pattern='(?u)\\\\b\\\\w\\\\w+\\\\b',\n",
       "                                 tokenizer=None, vocabula...)),\n",
       "                ('tfidf',\n",
       "                 TfidfTransformer(norm='l2', smooth_idf=True,\n",
       "                                  sublinear_tf=False, use_idf=True)),\n",
       "                ('clf',\n",
       "                 OneVsRestClassifier(estimator=LinearSVC(C=1.0,\n",
       "                                                         class_weight='balanced',\n",
       "                                                         dual=True,\n",
       "                                                         fit_intercept=True,\n",
       "                                                         intercept_scaling=1,\n",
       "                                                         loss='squared_hinge',\n",
       "                                                         max_iter=1000,\n",
       "                                                         multi_class='ovr',\n",
       "                                                         penalty='l2',\n",
       "                                                         random_state=None,\n",
       "                                                         tol=0.0001,\n",
       "                                                         verbose=0),\n",
       "                                     n_jobs=None))],\n",
       "         verbose=False)"
      ]
     },
     "execution_count": 67,
     "metadata": {},
     "output_type": "execute_result"
    }
   ],
   "source": [
    "#fit model with training data\n",
    "model.fit(X_train, y_train)"
   ]
  },
  {
   "cell_type": "code",
   "execution_count": 68,
   "metadata": {},
   "outputs": [],
   "source": [
    "#evaluation on test data\n",
    "pred = model.predict(X_test)"
   ]
  },
  {
   "cell_type": "code",
   "execution_count": 69,
   "metadata": {},
   "outputs": [
    {
     "data": {
      "text/plain": [
       "array(['Application Software (Primary)', 'Banks (Primary)',\n",
       "       'Biotechnology (Primary)', 'Capital Goods (Primary)',\n",
       "       'Commercial and Professional Services (Primary)',\n",
       "       'Communications Equipment (Primary)',\n",
       "       'Consumer Discretionary (Primary)', 'Energy (Primary)',\n",
       "       'Healthcare (Primary)', 'Information Technology (Primary)'],\n",
       "      dtype='<U46')"
      ]
     },
     "execution_count": 69,
     "metadata": {},
     "output_type": "execute_result"
    }
   ],
   "source": [
    "model.classes_"
   ]
  },
  {
   "cell_type": "code",
   "execution_count": 70,
   "metadata": {},
   "outputs": [
    {
     "data": {
      "text/plain": [
       "array([[ 2,  0,  0,  0,  0,  0,  0,  0,  0,  1],\n",
       "       [ 0, 64,  0,  0,  0,  0,  0,  0,  0,  1],\n",
       "       [ 0,  0, 46,  0,  0,  0,  0,  0,  6,  0],\n",
       "       [ 0,  0,  0, 19,  2,  0,  1,  1,  0,  0],\n",
       "       [ 1,  0,  0,  1, 18,  0,  3,  0,  1,  1],\n",
       "       [ 0,  0,  0,  0,  0, 10,  0,  0,  0,  2],\n",
       "       [ 2,  0,  1,  1,  3,  0, 26,  1,  0,  7],\n",
       "       [ 0,  0,  0,  1,  3,  0,  0, 42,  0,  0],\n",
       "       [ 0,  0,  3,  0,  0,  1,  1,  0, 31,  0],\n",
       "       [16,  0,  0,  3,  1,  0,  3,  0,  1, 20]], dtype=int64)"
      ]
     },
     "execution_count": 70,
     "metadata": {},
     "output_type": "execute_result"
    }
   ],
   "source": [
    "from sklearn.metrics import confusion_matrix, accuracy_score\n",
    "confusion_matrix(pred, y_test)"
   ]
  },
  {
   "cell_type": "code",
   "execution_count": 71,
   "metadata": {},
   "outputs": [
    {
     "data": {
      "text/plain": [
       "0.8011527377521613"
      ]
     },
     "execution_count": 71,
     "metadata": {},
     "output_type": "execute_result"
    }
   ],
   "source": [
    "accuracy_score(y_test, pred)"
   ]
  },
  {
   "cell_type": "code",
   "execution_count": null,
   "metadata": {},
   "outputs": [],
   "source": []
  },
  {
   "cell_type": "code",
   "execution_count": null,
   "metadata": {},
   "outputs": [],
   "source": []
  }
 ],
 "metadata": {
  "kernelspec": {
   "display_name": "Python 3",
   "language": "python",
   "name": "python3"
  },
  "language_info": {
   "codemirror_mode": {
    "name": "ipython",
    "version": 3
   },
   "file_extension": ".py",
   "mimetype": "text/x-python",
   "name": "python",
   "nbconvert_exporter": "python",
   "pygments_lexer": "ipython3",
   "version": "3.7.6"
  }
 },
 "nbformat": 4,
 "nbformat_minor": 4
}
